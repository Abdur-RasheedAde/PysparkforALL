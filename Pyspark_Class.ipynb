{
 "cells": [
  {
   "cell_type": "code",
   "execution_count": 0,
   "metadata": {
    "application/vnd.databricks.v1+cell": {
     "cellMetadata": {
      "byteLimit": 2048000,
      "rowLimit": 10000
     },
     "inputWidgets": {},
     "nuid": "7a2336d5-8539-4e39-9189-e0a72c60a808",
     "showTitle": false,
     "title": ""
    }
   },
   "outputs": [],
   "source": [
    "ddata = [('Tope', 'Smith', 'M', 20),\n",
    "        ('Seun', 'Ada', 'F', 25),\n",
    "        ('Jan', 'Temi', 'M', 30),\n",
    "        ('Abbey', 'Richard', 'F', 45),\n",
    "        ]\n",
    "columns = ('first_name', 'last_name', 'gender', 'age')\n",
    "df = spark.createDataFrame(data = ddata, schema=columns)"
   ]
  },
  {
   "cell_type": "code",
   "execution_count": 0,
   "metadata": {
    "application/vnd.databricks.v1+cell": {
     "cellMetadata": {
      "byteLimit": 2048000,
      "rowLimit": 10000
     },
     "inputWidgets": {},
     "nuid": "feb7c7d1-83d5-4d90-be61-ff98a20fb267",
     "showTitle": false,
     "title": ""
    }
   },
   "outputs": [
    {
     "output_type": "display_data",
     "data": {
      "text/html": [
       "<style scoped>\n",
       "  .table-result-container {\n",
       "    max-height: 300px;\n",
       "    overflow: auto;\n",
       "  }\n",
       "  table, th, td {\n",
       "    border: 1px solid black;\n",
       "    border-collapse: collapse;\n",
       "  }\n",
       "  th, td {\n",
       "    padding: 5px;\n",
       "  }\n",
       "  th {\n",
       "    text-align: left;\n",
       "  }\n",
       "</style><div class='table-result-container'><table class='table-result'><thead style='background-color: white'><tr><th>first_name</th><th>last_name</th><th>gender</th><th>age</th></tr></thead><tbody><tr><td>Tope</td><td>Smith</td><td>M</td><td>20</td></tr><tr><td>Seun</td><td>Ada</td><td>F</td><td>25</td></tr><tr><td>Jan</td><td>Temi</td><td>M</td><td>30</td></tr><tr><td>Abbey</td><td>Richard</td><td>F</td><td>45</td></tr></tbody></table></div>"
      ]
     },
     "metadata": {
      "application/vnd.databricks.v1+output": {
       "addedWidgets": {},
       "aggData": [],
       "aggError": "",
       "aggOverflow": false,
       "aggSchema": [],
       "aggSeriesLimitReached": false,
       "aggType": "",
       "arguments": {},
       "columnCustomDisplayInfos": {},
       "data": [
        [
         "Tope",
         "Smith",
         "M",
         20
        ],
        [
         "Seun",
         "Ada",
         "F",
         25
        ],
        [
         "Jan",
         "Temi",
         "M",
         30
        ],
        [
         "Abbey",
         "Richard",
         "F",
         45
        ]
       ],
       "datasetInfos": [],
       "dbfsResultPath": null,
       "isJsonSchema": true,
       "metadata": {},
       "overflow": false,
       "plotOptions": {
        "customPlotOptions": {},
        "displayType": "table",
        "pivotAggregation": null,
        "pivotColumns": null,
        "xColumns": null,
        "yColumns": null
       },
       "removedWidgets": [],
       "schema": [
        {
         "metadata": "{}",
         "name": "first_name",
         "type": "\"string\""
        },
        {
         "metadata": "{}",
         "name": "last_name",
         "type": "\"string\""
        },
        {
         "metadata": "{}",
         "name": "gender",
         "type": "\"string\""
        },
        {
         "metadata": "{}",
         "name": "age",
         "type": "\"long\""
        }
       ],
       "type": "table"
      }
     },
     "output_type": "display_data"
    },
    {
     "output_type": "display_data",
     "data": {
      "text/plain": [
       "\u001B[0;31m---------------------------------------------------------------------------\u001B[0m\n",
       "\u001B[0;31mNameError\u001B[0m                                 Traceback (most recent call last)\n",
       "File \u001B[0;32m<command-1580649138664131>:2\u001B[0m\n",
       "\u001B[1;32m      1\u001B[0m display(df)\n",
       "\u001B[0;32m----> 2\u001B[0m \u001B[38;5;241m-\u001B[39m\u001B[38;5;241m-\u001B[39m df(show)\n",
       "\n",
       "\u001B[0;31mNameError\u001B[0m: name 'show' is not defined"
      ]
     },
     "metadata": {
      "application/vnd.databricks.v1+output": {
       "arguments": {},
       "data": "\u001B[0;31m---------------------------------------------------------------------------\u001B[0m\n\u001B[0;31mNameError\u001B[0m                                 Traceback (most recent call last)\nFile \u001B[0;32m<command-1580649138664131>:2\u001B[0m\n\u001B[1;32m      1\u001B[0m display(df)\n\u001B[0;32m----> 2\u001B[0m \u001B[38;5;241m-\u001B[39m\u001B[38;5;241m-\u001B[39m df(show)\n\n\u001B[0;31mNameError\u001B[0m: name 'show' is not defined",
       "errorSummary": "<span class='ansi-red-fg'>NameError</span>: name 'show' is not defined",
       "errorTraceType": "ansi",
       "metadata": {},
       "type": "ipynbError"
      }
     },
     "output_type": "display_data"
    }
   ],
   "source": [
    "display(df)\n",
    "#another method df(show)"
   ]
  },
  {
   "cell_type": "code",
   "execution_count": 0,
   "metadata": {
    "application/vnd.databricks.v1+cell": {
     "cellMetadata": {
      "byteLimit": 2048000,
      "rowLimit": 10000
     },
     "inputWidgets": {},
     "nuid": "ad2520ac-9f06-4b98-841d-fc5f82e581dc",
     "showTitle": true,
     "title": "read_data_from csv"
    }
   },
   "outputs": [],
   "source": [
    "df2 = spark.read.format('csv').load(\"dbfs:/FileStore/tables/EmployeeMumbia.csv\")"
   ]
  },
  {
   "cell_type": "code",
   "execution_count": 0,
   "metadata": {
    "application/vnd.databricks.v1+cell": {
     "cellMetadata": {
      "byteLimit": 2048000,
      "rowLimit": 10000
     },
     "inputWidgets": {},
     "nuid": "d59644d2-b320-49a5-b98a-2b8e3dabdd1b",
     "showTitle": true,
     "title": "Display data"
    }
   },
   "outputs": [
    {
     "output_type": "stream",
     "name": "stdout",
     "output_type": "stream",
     "text": [
      "+--------+-------+------+\n|     _c0|    _c1|   _c2|\n+--------+-------+------+\n|UniqueID|   Name|Salary|\n|    M001| Ramesh| 20000|\n|    M002|  Riyaz| 35000|\n|    M003|  Karan| 40000|\n|    M004|  Froos| 20000|\n|    M005| Qiraat| 35000|\n|    M006|  Navid| 40000|\n|    M007|Egnadgy| 70000|\n+--------+-------+------+\n\n"
     ]
    }
   ],
   "source": [
    "df2.show()"
   ]
  },
  {
   "cell_type": "code",
   "execution_count": 0,
   "metadata": {
    "application/vnd.databricks.v1+cell": {
     "cellMetadata": {
      "byteLimit": 2048000,
      "rowLimit": 10000
     },
     "inputWidgets": {},
     "nuid": "3af97cc7-7637-43b8-b879-4dfbd2919414",
     "showTitle": true,
     "title": "Import first row as header"
    }
   },
   "outputs": [],
   "source": [
    "df2 = spark.read.format('csv').option('header','true').load(\"dbfs:/FileStore/tables/EmployeeMumbia.csv\")"
   ]
  },
  {
   "cell_type": "code",
   "execution_count": 0,
   "metadata": {
    "application/vnd.databricks.v1+cell": {
     "cellMetadata": {
      "byteLimit": 2048000,
      "rowLimit": 10000
     },
     "inputWidgets": {},
     "nuid": "6b01d05d-93f8-44c3-8bf4-9b8b1a21d919",
     "showTitle": false,
     "title": ""
    }
   },
   "outputs": [
    {
     "output_type": "display_data",
     "data": {
      "text/html": [
       "<style scoped>\n",
       "  .table-result-container {\n",
       "    max-height: 300px;\n",
       "    overflow: auto;\n",
       "  }\n",
       "  table, th, td {\n",
       "    border: 1px solid black;\n",
       "    border-collapse: collapse;\n",
       "  }\n",
       "  th, td {\n",
       "    padding: 5px;\n",
       "  }\n",
       "  th {\n",
       "    text-align: left;\n",
       "  }\n",
       "</style><div class='table-result-container'><table class='table-result'><thead style='background-color: white'><tr><th>UniqueID</th><th>Name</th><th>Salary</th></tr></thead><tbody><tr><td>M001</td><td>Ramesh</td><td>20000</td></tr><tr><td>M002</td><td>Riyaz</td><td>35000</td></tr><tr><td>M003</td><td>Karan</td><td>40000</td></tr><tr><td>M004</td><td>Froos</td><td>20000</td></tr><tr><td>M005</td><td>Qiraat</td><td>35000</td></tr><tr><td>M006</td><td>Navid</td><td>40000</td></tr><tr><td>M007</td><td>Egnadgy</td><td>70000</td></tr></tbody></table></div>"
      ]
     },
     "metadata": {
      "application/vnd.databricks.v1+output": {
       "addedWidgets": {},
       "aggData": [],
       "aggError": "",
       "aggOverflow": false,
       "aggSchema": [],
       "aggSeriesLimitReached": false,
       "aggType": "",
       "arguments": {},
       "columnCustomDisplayInfos": {},
       "data": [
        [
         "M001",
         "Ramesh",
         "20000"
        ],
        [
         "M002",
         "Riyaz",
         "35000"
        ],
        [
         "M003",
         "Karan",
         "40000"
        ],
        [
         "M004",
         "Froos",
         "20000"
        ],
        [
         "M005",
         "Qiraat",
         "35000"
        ],
        [
         "M006",
         "Navid",
         "40000"
        ],
        [
         "M007",
         "Egnadgy",
         "70000"
        ]
       ],
       "datasetInfos": [],
       "dbfsResultPath": null,
       "isJsonSchema": true,
       "metadata": {},
       "overflow": false,
       "plotOptions": {
        "customPlotOptions": {},
        "displayType": "table",
        "pivotAggregation": null,
        "pivotColumns": null,
        "xColumns": null,
        "yColumns": null
       },
       "removedWidgets": [],
       "schema": [
        {
         "metadata": "{}",
         "name": "UniqueID",
         "type": "\"string\""
        },
        {
         "metadata": "{}",
         "name": "Name",
         "type": "\"string\""
        },
        {
         "metadata": "{}",
         "name": "Salary",
         "type": "\"string\""
        }
       ],
       "type": "table"
      }
     },
     "output_type": "display_data"
    }
   ],
   "source": [
    "display(df2)"
   ]
  },
  {
   "cell_type": "code",
   "execution_count": 0,
   "metadata": {
    "application/vnd.databricks.v1+cell": {
     "cellMetadata": {
      "byteLimit": 2048000,
      "rowLimit": 10000
     },
     "inputWidgets": {},
     "nuid": "b50714a7-f7a1-4d6b-8a9a-bcfa70f2076a",
     "showTitle": true,
     "title": "inherit datasource schema"
    }
   },
   "outputs": [
    {
     "output_type": "display_data",
     "data": {
      "text/html": [
       "<style scoped>\n",
       "  .table-result-container {\n",
       "    max-height: 300px;\n",
       "    overflow: auto;\n",
       "  }\n",
       "  table, th, td {\n",
       "    border: 1px solid black;\n",
       "    border-collapse: collapse;\n",
       "  }\n",
       "  th, td {\n",
       "    padding: 5px;\n",
       "  }\n",
       "  th {\n",
       "    text-align: left;\n",
       "  }\n",
       "</style><div class='table-result-container'><table class='table-result'><thead style='background-color: white'><tr><th>UniqueID</th><th>Name</th><th>Salary</th></tr></thead><tbody><tr><td>M001</td><td>Ramesh</td><td>20000</td></tr><tr><td>M002</td><td>Riyaz</td><td>35000</td></tr><tr><td>M003</td><td>Karan</td><td>40000</td></tr><tr><td>M004</td><td>Froos</td><td>20000</td></tr><tr><td>M005</td><td>Qiraat</td><td>35000</td></tr><tr><td>M006</td><td>Navid</td><td>40000</td></tr><tr><td>M007</td><td>Egnadgy</td><td>70000</td></tr></tbody></table></div>"
      ]
     },
     "metadata": {
      "application/vnd.databricks.v1+output": {
       "addedWidgets": {},
       "aggData": [],
       "aggError": "",
       "aggOverflow": false,
       "aggSchema": [],
       "aggSeriesLimitReached": false,
       "aggType": "",
       "arguments": {},
       "columnCustomDisplayInfos": {},
       "data": [
        [
         "M001",
         "Ramesh",
         20000
        ],
        [
         "M002",
         "Riyaz",
         35000
        ],
        [
         "M003",
         "Karan",
         40000
        ],
        [
         "M004",
         "Froos",
         20000
        ],
        [
         "M005",
         "Qiraat",
         35000
        ],
        [
         "M006",
         "Navid",
         40000
        ],
        [
         "M007",
         "Egnadgy",
         70000
        ]
       ],
       "datasetInfos": [],
       "dbfsResultPath": null,
       "isJsonSchema": true,
       "metadata": {},
       "overflow": false,
       "plotOptions": {
        "customPlotOptions": {},
        "displayType": "table",
        "pivotAggregation": null,
        "pivotColumns": null,
        "xColumns": null,
        "yColumns": null
       },
       "removedWidgets": [],
       "schema": [
        {
         "metadata": "{}",
         "name": "UniqueID",
         "type": "\"string\""
        },
        {
         "metadata": "{}",
         "name": "Name",
         "type": "\"string\""
        },
        {
         "metadata": "{}",
         "name": "Salary",
         "type": "\"integer\""
        }
       ],
       "type": "table"
      }
     },
     "output_type": "display_data"
    }
   ],
   "source": [
    "df2 = spark.read.format('csv').option('header','true').option('inferSchema', 'true').load(\"dbfs:/FileStore/tables/EmployeeMumbia.csv\")\n",
    "\n",
    "display(df2)"
   ]
  },
  {
   "cell_type": "code",
   "execution_count": 0,
   "metadata": {
    "application/vnd.databricks.v1+cell": {
     "cellMetadata": {
      "byteLimit": 2048000,
      "rowLimit": 10000
     },
     "inputWidgets": {},
     "nuid": "3d5de4cc-b131-4e05-87ef-31496ce98610",
     "showTitle": true,
     "title": "Show schema"
    }
   },
   "outputs": [
    {
     "output_type": "stream",
     "name": "stdout",
     "output_type": "stream",
     "text": [
      "root\n |-- UniqueID: string (nullable = true)\n |-- Name: string (nullable = true)\n |-- Salary: integer (nullable = true)\n\n"
     ]
    }
   ],
   "source": [
    "df2.printSchema()"
   ]
  },
  {
   "cell_type": "code",
   "execution_count": 0,
   "metadata": {
    "application/vnd.databricks.v1+cell": {
     "cellMetadata": {
      "byteLimit": 2048000,
      "rowLimit": 10000
     },
     "inputWidgets": {},
     "nuid": "df48e8b5-b9a2-4bdb-8b32-36ca92fe3cc9",
     "showTitle": true,
     "title": "saving data with another name"
    }
   },
   "outputs": [],
   "source": [
    "df2.write.format('csv').save(\"dbfs:/FileStore/tables/resaveMumbia\")"
   ]
  },
  {
   "cell_type": "code",
   "execution_count": 0,
   "metadata": {
    "application/vnd.databricks.v1+cell": {
     "cellMetadata": {
      "byteLimit": 2048000,
      "rowLimit": 10000
     },
     "inputWidgets": {},
     "nuid": "f3f19331-6f80-4113-8ae4-b2ac6d7aae6e",
     "showTitle": true,
     "title": "Reading Data--method1"
    }
   },
   "outputs": [
    {
     "output_type": "stream",
     "name": "stdout",
     "output_type": "stream",
     "text": [
      "+--------+-------+------+\n|UniqueID|   Name|Salary|\n+--------+-------+------+\n|    M001| Ramesh| 20000|\n|    M002|  Riyaz| 35000|\n|    M003|  Karan| 40000|\n|    M004|  Froos| 20000|\n|    M005| Qiraat| 35000|\n|    M006|  Navid| 40000|\n|    M007|Egnadgy| 70000|\n+--------+-------+------+\n\n"
     ]
    }
   ],
   "source": [
    "df2.show()"
   ]
  },
  {
   "cell_type": "code",
   "execution_count": 0,
   "metadata": {
    "application/vnd.databricks.v1+cell": {
     "cellMetadata": {
      "byteLimit": 2048000,
      "rowLimit": 10000
     },
     "inputWidgets": {},
     "nuid": "312b9498-7264-4ae2-a565-7acdbefca282",
     "showTitle": true,
     "title": "Reading Data--method2"
    }
   },
   "outputs": [
    {
     "output_type": "display_data",
     "data": {
      "text/html": [
       "<style scoped>\n",
       "  .table-result-container {\n",
       "    max-height: 300px;\n",
       "    overflow: auto;\n",
       "  }\n",
       "  table, th, td {\n",
       "    border: 1px solid black;\n",
       "    border-collapse: collapse;\n",
       "  }\n",
       "  th, td {\n",
       "    padding: 5px;\n",
       "  }\n",
       "  th {\n",
       "    text-align: left;\n",
       "  }\n",
       "</style><div class='table-result-container'><table class='table-result'><thead style='background-color: white'><tr><th>UniqueID</th><th>Name</th><th>Salary</th></tr></thead><tbody><tr><td>M001</td><td>Ramesh</td><td>20000</td></tr><tr><td>M002</td><td>Riyaz</td><td>35000</td></tr><tr><td>M003</td><td>Karan</td><td>40000</td></tr><tr><td>M004</td><td>Froos</td><td>20000</td></tr><tr><td>M005</td><td>Qiraat</td><td>35000</td></tr><tr><td>M006</td><td>Navid</td><td>40000</td></tr><tr><td>M007</td><td>Egnadgy</td><td>70000</td></tr></tbody></table></div>"
      ]
     },
     "metadata": {
      "application/vnd.databricks.v1+output": {
       "addedWidgets": {},
       "aggData": [],
       "aggError": "",
       "aggOverflow": false,
       "aggSchema": [],
       "aggSeriesLimitReached": false,
       "aggType": "",
       "arguments": {},
       "columnCustomDisplayInfos": {},
       "data": [
        [
         "M001",
         "Ramesh",
         20000
        ],
        [
         "M002",
         "Riyaz",
         35000
        ],
        [
         "M003",
         "Karan",
         40000
        ],
        [
         "M004",
         "Froos",
         20000
        ],
        [
         "M005",
         "Qiraat",
         35000
        ],
        [
         "M006",
         "Navid",
         40000
        ],
        [
         "M007",
         "Egnadgy",
         70000
        ]
       ],
       "datasetInfos": [],
       "dbfsResultPath": null,
       "isJsonSchema": true,
       "metadata": {},
       "overflow": false,
       "plotOptions": {
        "customPlotOptions": {},
        "displayType": "table",
        "pivotAggregation": null,
        "pivotColumns": null,
        "xColumns": null,
        "yColumns": null
       },
       "removedWidgets": [],
       "schema": [
        {
         "metadata": "{}",
         "name": "UniqueID",
         "type": "\"string\""
        },
        {
         "metadata": "{}",
         "name": "Name",
         "type": "\"string\""
        },
        {
         "metadata": "{}",
         "name": "Salary",
         "type": "\"integer\""
        }
       ],
       "type": "table"
      }
     },
     "output_type": "display_data"
    }
   ],
   "source": [
    "display(df2)"
   ]
  },
  {
   "cell_type": "code",
   "execution_count": 0,
   "metadata": {
    "application/vnd.databricks.v1+cell": {
     "cellMetadata": {
      "byteLimit": 2048000,
      "rowLimit": 10000
     },
     "inputWidgets": {},
     "nuid": "a16d8aa5-621d-4d12-a983-f9e60cfe4729",
     "showTitle": true,
     "title": "Reading Data--method3"
    }
   },
   "outputs": [
    {
     "output_type": "stream",
     "name": "stdout",
     "output_type": "stream",
     "text": [
      "Out[19]: [Row(UniqueID='M001', Name='Ramesh', Salary=20000),\n Row(UniqueID='M002', Name='Riyaz', Salary=35000),\n Row(UniqueID='M003', Name='Karan', Salary=40000),\n Row(UniqueID='M004', Name='Froos', Salary=20000),\n Row(UniqueID='M005', Name='Qiraat', Salary=35000),\n Row(UniqueID='M006', Name='Navid', Salary=40000),\n Row(UniqueID='M007', Name='Egnadgy', Salary=70000)]"
     ]
    }
   ],
   "source": [
    "df2.collect()"
   ]
  },
  {
   "cell_type": "code",
   "execution_count": 0,
   "metadata": {
    "application/vnd.databricks.v1+cell": {
     "cellMetadata": {
      "byteLimit": 2048000,
      "rowLimit": 10000
     },
     "inputWidgets": {},
     "nuid": "281f5dbe-4d20-442e-81ea-e757e4098a6c",
     "showTitle": true,
     "title": "Reading Data--method3"
    }
   },
   "outputs": [
    {
     "output_type": "stream",
     "name": "stdout",
     "output_type": "stream",
     "text": [
      "Out[20]: [Row(UniqueID='M001', Name='Ramesh', Salary=20000),\n Row(UniqueID='M002', Name='Riyaz', Salary=35000)]"
     ]
    }
   ],
   "source": [
    "df2.take(2)"
   ]
  },
  {
   "cell_type": "code",
   "execution_count": 0,
   "metadata": {
    "application/vnd.databricks.v1+cell": {
     "cellMetadata": {
      "byteLimit": 2048000,
      "rowLimit": 10000
     },
     "inputWidgets": {},
     "nuid": "2e59dc5b-e7e0-4fff-a149-140a87ee0b3c",
     "showTitle": false,
     "title": ""
    }
   },
   "outputs": [
    {
     "output_type": "stream",
     "name": "stdout",
     "output_type": "stream",
     "text": [
      "root\n |-- first_name: string (nullable = true)\n |-- last_name: string (nullable = true)\n |-- gender: string (nullable = true)\n |-- age: long (nullable = true)\n\n"
     ]
    }
   ],
   "source": [
    "df.printSchema()"
   ]
  },
  {
   "cell_type": "code",
   "execution_count": 0,
   "metadata": {
    "application/vnd.databricks.v1+cell": {
     "cellMetadata": {
      "byteLimit": 2048000,
      "rowLimit": 10000
     },
     "inputWidgets": {},
     "nuid": "0a01c561-a0c5-4df9-a050-5976e0c3021d",
     "showTitle": true,
     "title": "Add New Column"
    }
   },
   "outputs": [
    {
     "output_type": "stream",
     "name": "stdout",
     "output_type": "stream",
     "text": [
      "+--------+-------+------+------+\n|UniqueID|   Name|Salary| bonus|\n+--------+-------+------+------+\n|    M001| Ramesh| 20000| 400.0|\n|    M002|  Riyaz| 35000| 700.0|\n|    M003|  Karan| 40000| 800.0|\n|    M004|  Froos| 20000| 400.0|\n|    M005| Qiraat| 35000| 700.0|\n|    M006|  Navid| 40000| 800.0|\n|    M007|Egnadgy| 70000|1400.0|\n+--------+-------+------+------+\n\n"
     ]
    }
   ],
   "source": [
    "df2.withColumn('bonus',df2.Salary*0.02).show()"
   ]
  },
  {
   "cell_type": "code",
   "execution_count": 0,
   "metadata": {
    "application/vnd.databricks.v1+cell": {
     "cellMetadata": {
      "byteLimit": 2048000,
      "rowLimit": 10000
     },
     "inputWidgets": {},
     "nuid": "57ef7aa9-791e-43a8-92c4-91c5c2445d2a",
     "showTitle": true,
     "title": "Add New Column"
    }
   },
   "outputs": [
    {
     "output_type": "stream",
     "name": "stdout",
     "output_type": "stream",
     "text": [
      "+--------+-------+------+--------+\n|UniqueID|   Name|Salary|AfterESR|\n+--------+-------+------+--------+\n|    M001| Ramesh| 20000| 20400.0|\n|    M002|  Riyaz| 35000| 35700.0|\n|    M003|  Karan| 40000| 40800.0|\n|    M004|  Froos| 20000| 20400.0|\n|    M005| Qiraat| 35000| 35700.0|\n|    M006|  Navid| 40000| 40800.0|\n|    M007|Egnadgy| 70000| 71400.0|\n+--------+-------+------+--------+\n\n"
     ]
    }
   ],
   "source": [
    "df2.withColumn('AfterESR',df2.Salary+df2.Salary*0.02).show()"
   ]
  },
  {
   "cell_type": "code",
   "execution_count": 0,
   "metadata": {
    "application/vnd.databricks.v1+cell": {
     "cellMetadata": {
      "byteLimit": 2048000,
      "rowLimit": 10000
     },
     "inputWidgets": {},
     "nuid": "5bd7d997-bed2-4abb-86ec-c28fdafa5f30",
     "showTitle": true,
     "title": "Apply Filter"
    }
   },
   "outputs": [
    {
     "output_type": "stream",
     "name": "stdout",
     "output_type": "stream",
     "text": [
      "+--------+-------+------+\n|UniqueID|   Name|Salary|\n+--------+-------+------+\n|    M002|  Riyaz| 35000|\n|    M003|  Karan| 40000|\n|    M005| Qiraat| 35000|\n|    M006|  Navid| 40000|\n|    M007|Egnadgy| 70000|\n+--------+-------+------+\n\n"
     ]
    }
   ],
   "source": [
    "df2.filter(df2.Salary>30000).show()"
   ]
  },
  {
   "cell_type": "code",
   "execution_count": 0,
   "metadata": {
    "application/vnd.databricks.v1+cell": {
     "cellMetadata": {
      "byteLimit": 2048000,
      "rowLimit": 10000
     },
     "inputWidgets": {},
     "nuid": "6080f02c-f5c4-4bfa-ab42-d258b214225c",
     "showTitle": true,
     "title": "Sort by Salary"
    }
   },
   "outputs": [
    {
     "output_type": "stream",
     "name": "stdout",
     "output_type": "stream",
     "text": [
      "+--------+-------+------+\n|UniqueID|   Name|Salary|\n+--------+-------+------+\n|    M007|Egnadgy| 70000|\n|    M003|  Karan| 40000|\n|    M006|  Navid| 40000|\n|    M002|  Riyaz| 35000|\n|    M005| Qiraat| 35000|\n|    M001| Ramesh| 20000|\n|    M004|  Froos| 20000|\n+--------+-------+------+\n\n"
     ]
    }
   ],
   "source": [
    "df2.sort(df2.Salary.desc()).show()"
   ]
  },
  {
   "cell_type": "code",
   "execution_count": 0,
   "metadata": {
    "application/vnd.databricks.v1+cell": {
     "cellMetadata": {
      "byteLimit": 2048000,
      "rowLimit": 10000
     },
     "inputWidgets": {},
     "nuid": "5b4c9ed6-c440-41fe-8255-f99aab7d3280",
     "showTitle": false,
     "title": ""
    }
   },
   "outputs": [
    {
     "output_type": "display_data",
     "data": {
      "text/html": [
       "<style scoped>\n",
       "  .table-result-container {\n",
       "    max-height: 300px;\n",
       "    overflow: auto;\n",
       "  }\n",
       "  table, th, td {\n",
       "    border: 1px solid black;\n",
       "    border-collapse: collapse;\n",
       "  }\n",
       "  th, td {\n",
       "    padding: 5px;\n",
       "  }\n",
       "  th {\n",
       "    text-align: left;\n",
       "  }\n",
       "</style><div class='table-result-container'><table class='table-result'><thead style='background-color: white'><tr><th>first_name</th><th>last_name</th><th>Age</th><th>Experience</th><th>Salary</th></tr></thead><tbody><tr><td>Ade</td><td>Obi</td><td>34</td><td>M</td><td>20000</td></tr><tr><td>Ada</td><td>null</td><td>35</td><td>M</td><td>35000</td></tr><tr><td>Jon</td><td>Cray</td><td>20</td><td>F</td><td>40000</td></tr><tr><td>Ife</td><td>null</td><td>21</td><td>null</td><td>20000</td></tr><tr><td>Tamuno</td><td>Obudo</td><td>26</td><td>F</td><td>35000</td></tr><tr><td>Agbo</td><td>null</td><td>22</td><td>F</td><td>40000</td></tr><tr><td>Ajoke</td><td>Yam</td><td>21</td><td>F</td><td>70000</td></tr><tr><td>Temi</td><td>Pep</td><td>null</td><td>null</td><td>45000</td></tr><tr><td>null</td><td>null</td><td>30</td><td>M</td><td>40000</td></tr><tr><td>null</td><td>Tag</td><td>44</td><td>null</td><td>null</td></tr></tbody></table></div>"
      ]
     },
     "metadata": {
      "application/vnd.databricks.v1+output": {
       "addedWidgets": {},
       "aggData": [],
       "aggError": "",
       "aggOverflow": false,
       "aggSchema": [],
       "aggSeriesLimitReached": false,
       "aggType": "",
       "arguments": {},
       "columnCustomDisplayInfos": {},
       "data": [
        [
         "Ade",
         "Obi",
         34,
         "M",
         20000
        ],
        [
         "Ada",
         null,
         35,
         "M",
         35000
        ],
        [
         "Jon",
         "Cray",
         20,
         "F",
         40000
        ],
        [
         "Ife",
         null,
         21,
         null,
         20000
        ],
        [
         "Tamuno",
         "Obudo",
         26,
         "F",
         35000
        ],
        [
         "Agbo",
         null,
         22,
         "F",
         40000
        ],
        [
         "Ajoke",
         "Yam",
         21,
         "F",
         70000
        ],
        [
         "Temi",
         "Pep",
         null,
         null,
         45000
        ],
        [
         null,
         null,
         30,
         "M",
         40000
        ],
        [
         null,
         "Tag",
         44,
         null,
         null
        ]
       ],
       "datasetInfos": [],
       "dbfsResultPath": null,
       "isJsonSchema": true,
       "metadata": {},
       "overflow": false,
       "plotOptions": {
        "customPlotOptions": {},
        "displayType": "table",
        "pivotAggregation": null,
        "pivotColumns": null,
        "xColumns": null,
        "yColumns": null
       },
       "removedWidgets": [],
       "schema": [
        {
         "metadata": "{}",
         "name": "first_name",
         "type": "\"string\""
        },
        {
         "metadata": "{}",
         "name": "last_name",
         "type": "\"string\""
        },
        {
         "metadata": "{}",
         "name": "Age",
         "type": "\"integer\""
        },
        {
         "metadata": "{}",
         "name": "Experience",
         "type": "\"string\""
        },
        {
         "metadata": "{}",
         "name": "Salary",
         "type": "\"integer\""
        }
       ],
       "type": "table"
      }
     },
     "output_type": "display_data"
    }
   ],
   "source": [
    "df3 = spark.read.format('csv').option('header','true').option('inferSchema', 'true').load(\"/FileStore/tables/Pyspark.csv\")\n",
    "\n",
    "display(df3)\n",
    "#'Experience' should have been 'Gender' 😇😊"
   ]
  },
  {
   "cell_type": "code",
   "execution_count": 0,
   "metadata": {
    "application/vnd.databricks.v1+cell": {
     "cellMetadata": {
      "byteLimit": 2048000,
      "rowLimit": 10000
     },
     "inputWidgets": {},
     "nuid": "b2c76347-2f53-4a6b-ad4f-609fb56d3958",
     "showTitle": true,
     "title": "Filter"
    }
   },
   "outputs": [
    {
     "output_type": "stream",
     "name": "stdout",
     "output_type": "stream",
     "text": [
      "+----------+----------+------+\n|first_name|Experience|Salary|\n+----------+----------+------+\n|       Ade|         M| 20000|\n|       Ada|         M| 35000|\n|       Jon|         F| 40000|\n|       Ife|      null| 20000|\n|    Tamuno|         F| 35000|\n|      Agbo|         F| 40000|\n|     Ajoke|         F| 70000|\n|      Temi|      null| 45000|\n|      null|         M| 40000|\n|      null|      null|  null|\n+----------+----------+------+\n\n"
     ]
    }
   ],
   "source": [
    "df3.select('first_name','Experience','Salary').show()"
   ]
  },
  {
   "cell_type": "code",
   "execution_count": 0,
   "metadata": {
    "application/vnd.databricks.v1+cell": {
     "cellMetadata": {
      "byteLimit": 2048000,
      "rowLimit": 10000
     },
     "inputWidgets": {},
     "nuid": "513c3fa0-b450-49c8-8bde-f954015b542d",
     "showTitle": true,
     "title": "Aggregate functions"
    }
   },
   "outputs": [
    {
     "output_type": "stream",
     "name": "stdout",
     "output_type": "stream",
     "text": [
      "+----------+-----------+\n|Experience|sum(Salary)|\n+----------+-----------+\n|         F|     185000|\n|      null|      65000|\n|         M|      95000|\n+----------+-----------+\n\n"
     ]
    }
   ],
   "source": [
    "df3.groupBy('Experience').sum('Salary').show()"
   ]
  },
  {
   "cell_type": "code",
   "execution_count": 0,
   "metadata": {
    "application/vnd.databricks.v1+cell": {
     "cellMetadata": {
      "byteLimit": 2048000,
      "rowLimit": 10000
     },
     "inputWidgets": {},
     "nuid": "0751d6f5-d04e-419e-9c36-11af6e269efc",
     "showTitle": true,
     "title": "Count number of entry"
    }
   },
   "outputs": [
    {
     "output_type": "stream",
     "name": "stdout",
     "output_type": "stream",
     "text": [
      "+----------+-----+\n|Experience|count|\n+----------+-----+\n|         F|    4|\n|      null|    3|\n|         M|    3|\n+----------+-----+\n\n"
     ]
    }
   ],
   "source": [
    "df3.groupBy('Experience').count().show()"
   ]
  },
  {
   "cell_type": "code",
   "execution_count": 0,
   "metadata": {
    "application/vnd.databricks.v1+cell": {
     "cellMetadata": {
      "byteLimit": 2048000,
      "rowLimit": 10000
     },
     "inputWidgets": {},
     "nuid": "94e13bfb-dea0-4e69-93c4-5f9002124691",
     "showTitle": true,
     "title": "Minimum salary based on gender"
    }
   },
   "outputs": [
    {
     "output_type": "stream",
     "name": "stdout",
     "output_type": "stream",
     "text": [
      "+----------+-----------+\n|Experience|min(Salary)|\n+----------+-----------+\n|         F|      35000|\n|      null|      20000|\n|         M|      20000|\n+----------+-----------+\n\n"
     ]
    }
   ],
   "source": [
    "#same with max, average\n",
    "df3.groupBy('Experience').min('Salary').show()"
   ]
  },
  {
   "cell_type": "code",
   "execution_count": 0,
   "metadata": {
    "application/vnd.databricks.v1+cell": {
     "cellMetadata": {
      "byteLimit": 2048000,
      "rowLimit": 10000
     },
     "inputWidgets": {},
     "nuid": "61d09635-4070-4a2d-823f-3af388e65c51",
     "showTitle": false,
     "title": ""
    }
   },
   "outputs": [
    {
     "output_type": "display_data",
     "data": {
      "text/html": [
       "<style scoped>\n",
       "  .table-result-container {\n",
       "    max-height: 300px;\n",
       "    overflow: auto;\n",
       "  }\n",
       "  table, th, td {\n",
       "    border: 1px solid black;\n",
       "    border-collapse: collapse;\n",
       "  }\n",
       "  th, td {\n",
       "    padding: 5px;\n",
       "  }\n",
       "  th {\n",
       "    text-align: left;\n",
       "  }\n",
       "</style><div class='table-result-container'><table class='table-result'><thead style='background-color: white'><tr><th>UniqueID</th><th>Department</th></tr></thead><tbody><tr><td>A001</td><td>Sales</td></tr><tr><td>A002</td><td>CTO</td></tr><tr><td>A003</td><td>Ops</td></tr><tr><td>A004</td><td>Sales</td></tr><tr><td>A005</td><td>CTO</td></tr><tr><td>A006</td><td>Ops</td></tr><tr><td>A007</td><td>Finance</td></tr><tr><td>A008</td><td>Finance</td></tr><tr><td>A009</td><td>Sales</td></tr><tr><td>A010</td><td>CTO</td></tr><tr><td>A011</td><td>Ops</td></tr></tbody></table></div>"
      ]
     },
     "metadata": {
      "application/vnd.databricks.v1+output": {
       "addedWidgets": {},
       "aggData": [],
       "aggError": "",
       "aggOverflow": false,
       "aggSchema": [],
       "aggSeriesLimitReached": false,
       "aggType": "",
       "arguments": {},
       "columnCustomDisplayInfos": {},
       "data": [
        [
         "A001",
         "Sales"
        ],
        [
         "A002",
         "CTO"
        ],
        [
         "A003",
         "Ops"
        ],
        [
         "A004",
         "Sales"
        ],
        [
         "A005",
         "CTO"
        ],
        [
         "A006",
         "Ops"
        ],
        [
         "A007",
         "Finance"
        ],
        [
         "A008",
         "Finance"
        ],
        [
         "A009",
         "Sales"
        ],
        [
         "A010",
         "CTO"
        ],
        [
         "A011",
         "Ops"
        ]
       ],
       "datasetInfos": [],
       "dbfsResultPath": null,
       "isJsonSchema": true,
       "metadata": {},
       "overflow": false,
       "plotOptions": {
        "customPlotOptions": {},
        "displayType": "table",
        "pivotAggregation": null,
        "pivotColumns": null,
        "xColumns": null,
        "yColumns": null
       },
       "removedWidgets": [],
       "schema": [
        {
         "metadata": "{}",
         "name": "UniqueID",
         "type": "\"string\""
        },
        {
         "metadata": "{}",
         "name": "Department",
         "type": "\"string\""
        }
       ],
       "type": "table"
      }
     },
     "output_type": "display_data"
    },
    {
     "output_type": "display_data",
     "data": {
      "text/html": [
       "<style scoped>\n",
       "  .table-result-container {\n",
       "    max-height: 300px;\n",
       "    overflow: auto;\n",
       "  }\n",
       "  table, th, td {\n",
       "    border: 1px solid black;\n",
       "    border-collapse: collapse;\n",
       "  }\n",
       "  th, td {\n",
       "    padding: 5px;\n",
       "  }\n",
       "  th {\n",
       "    text-align: left;\n",
       "  }\n",
       "</style><div class='table-result-container'><table class='table-result'><thead style='background-color: white'><tr><th>UniqueID</th><th>Name</th><th>Salary</th><th>Region</th><th>NewSalary</th></tr></thead><tbody><tr><td>A001</td><td>Ade</td><td>20000</td><td>Nigeria</td><td>null</td></tr><tr><td>A002</td><td>Ada</td><td>35000</td><td>Nigeria</td><td>null</td></tr><tr><td>A003</td><td>Jon</td><td>40000</td><td>UK</td><td>null</td></tr><tr><td>A004</td><td>Jane</td><td>20000</td><td>USA</td><td>null</td></tr><tr><td>A005</td><td>James</td><td>35000</td><td>UK</td><td>null</td></tr><tr><td>A006</td><td>Agbo</td><td>40000</td><td>USA</td><td>null</td></tr><tr><td>A007</td><td>Awa</td><td>70000</td><td>UAE</td><td>null</td></tr><tr><td>A008</td><td>Tamuno</td><td>10000</td><td>Belgium</td><td>null</td></tr><tr><td>A009</td><td>Agbo</td><td>35000</td><td>Nigeria</td><td>null</td></tr><tr><td>A010</td><td>Taiwo</td><td>40000</td><td>Belgium</td><td>null</td></tr><tr><td>A011</td><td>Adam</td><td>10000</td><td>UAE</td><td>null</td></tr></tbody></table></div>"
      ]
     },
     "metadata": {
      "application/vnd.databricks.v1+output": {
       "addedWidgets": {},
       "aggData": [],
       "aggError": "",
       "aggOverflow": false,
       "aggSchema": [],
       "aggSeriesLimitReached": false,
       "aggType": "",
       "arguments": {},
       "columnCustomDisplayInfos": {},
       "data": [
        [
         "A001",
         "Ade",
         20000,
         "Nigeria",
         null
        ],
        [
         "A002",
         "Ada",
         35000,
         "Nigeria",
         null
        ],
        [
         "A003",
         "Jon",
         40000,
         "UK",
         null
        ],
        [
         "A004",
         "Jane",
         20000,
         "USA",
         null
        ],
        [
         "A005",
         "James",
         35000,
         "UK",
         null
        ],
        [
         "A006",
         "Agbo",
         40000,
         "USA",
         null
        ],
        [
         "A007",
         "Awa",
         70000,
         "UAE",
         null
        ],
        [
         "A008",
         "Tamuno",
         10000,
         "Belgium",
         null
        ],
        [
         "A009",
         "Agbo",
         35000,
         "Nigeria",
         null
        ],
        [
         "A010",
         "Taiwo",
         40000,
         "Belgium",
         null
        ],
        [
         "A011",
         "Adam",
         10000,
         "UAE",
         null
        ]
       ],
       "datasetInfos": [],
       "dbfsResultPath": null,
       "isJsonSchema": true,
       "metadata": {},
       "overflow": false,
       "plotOptions": {
        "customPlotOptions": {},
        "displayType": "table",
        "pivotAggregation": null,
        "pivotColumns": null,
        "xColumns": null,
        "yColumns": null
       },
       "removedWidgets": [],
       "schema": [
        {
         "metadata": "{}",
         "name": "UniqueID",
         "type": "\"string\""
        },
        {
         "metadata": "{}",
         "name": "Name",
         "type": "\"string\""
        },
        {
         "metadata": "{}",
         "name": "Salary",
         "type": "\"integer\""
        },
        {
         "metadata": "{}",
         "name": "Region",
         "type": "\"string\""
        },
        {
         "metadata": "{}",
         "name": "NewSalary",
         "type": "\"string\""
        }
       ],
       "type": "table"
      }
     },
     "output_type": "display_data"
    }
   ],
   "source": [
    "dp= spark.read.format('csv').option('header','true').option('inferSchema', 'true').load(\"dbfs:/FileStore/tables/Departmenttable.csv\")\n",
    "\n",
    "em= spark.read.format('csv').option('header','true').option('inferSchema', 'true').load(\"dbfs:/FileStore/tables/Employeetable.csv\")\n",
    "display(dp)\n",
    "display(em)\n"
   ]
  },
  {
   "cell_type": "code",
   "execution_count": 0,
   "metadata": {
    "application/vnd.databricks.v1+cell": {
     "cellMetadata": {
      "byteLimit": 2048000,
      "rowLimit": 10000
     },
     "inputWidgets": {},
     "nuid": "b21ffb8d-e445-473b-ba46-ee26c0942548",
     "showTitle": true,
     "title": "JOINS"
    }
   },
   "outputs": [
    {
     "output_type": "stream",
     "name": "stdout",
     "output_type": "stream",
     "text": [
      "+--------+------+------+-------+---------+--------+----------+\n|UniqueID|  Name|Salary| Region|NewSalary|UniqueID|Department|\n+--------+------+------+-------+---------+--------+----------+\n|    A001|   Ade| 20000|Nigeria|     null|    A001|     Sales|\n|    A002|   Ada| 35000|Nigeria|     null|    A002|       CTO|\n|    A003|   Jon| 40000|     UK|     null|    A003|       Ops|\n|    A004|  Jane| 20000|    USA|     null|    A004|     Sales|\n|    A005| James| 35000|     UK|     null|    A005|       CTO|\n|    A006|  Agbo| 40000|    USA|     null|    A006|       Ops|\n|    A007|   Awa| 70000|    UAE|     null|    A007|   Finance|\n|    A008|Tamuno| 10000|Belgium|     null|    A008|   Finance|\n|    A009|  Agbo| 35000|Nigeria|     null|    A009|     Sales|\n|    A010| Taiwo| 40000|Belgium|     null|    A010|       CTO|\n|    A011|  Adam| 10000|    UAE|     null|    A011|       Ops|\n+--------+------+------+-------+---------+--------+----------+\n\n"
     ]
    }
   ],
   "source": [
    "em.join(dp, em.UniqueID==dp.UniqueID,'inner').show()\n"
   ]
  },
  {
   "cell_type": "code",
   "execution_count": 0,
   "metadata": {
    "application/vnd.databricks.v1+cell": {
     "cellMetadata": {
      "byteLimit": 2048000,
      "rowLimit": 10000
     },
     "inputWidgets": {},
     "nuid": "41afc681-f0d8-4693-997b-f7d98927d32d",
     "showTitle": false,
     "title": ""
    }
   },
   "outputs": [
    {
     "output_type": "stream",
     "name": "stdout",
     "output_type": "stream",
     "text": [
      "+--------+------+------+-------+---------+--------+----------+\n|UniqueID|  Name|Salary| Region|NewSalary|UniqueID|Department|\n+--------+------+------+-------+---------+--------+----------+\n|    A001|   Ade| 20000|Nigeria|     null|    A001|     Sales|\n|    A002|   Ada| 35000|Nigeria|     null|    A002|       CTO|\n|    A003|   Jon| 40000|     UK|     null|    A003|       Ops|\n|    A004|  Jane| 20000|    USA|     null|    A004|     Sales|\n|    A005| James| 35000|     UK|     null|    A005|       CTO|\n|    A006|  Agbo| 40000|    USA|     null|    A006|       Ops|\n|    A007|   Awa| 70000|    UAE|     null|    A007|   Finance|\n|    A008|Tamuno| 10000|Belgium|     null|    A008|   Finance|\n|    A009|  Agbo| 35000|Nigeria|     null|    A009|     Sales|\n|    A010| Taiwo| 40000|Belgium|     null|    A010|       CTO|\n|    A011|  Adam| 10000|    UAE|     null|    A011|       Ops|\n+--------+------+------+-------+---------+--------+----------+\n\n"
     ]
    }
   ],
   "source": [
    "em.join(dp, em.UniqueID==dp.UniqueID,'left').show()\n"
   ]
  },
  {
   "cell_type": "code",
   "execution_count": 0,
   "metadata": {
    "application/vnd.databricks.v1+cell": {
     "cellMetadata": {
      "byteLimit": 2048000,
      "rowLimit": 10000
     },
     "inputWidgets": {},
     "nuid": "0bd021ad-bb4f-478c-bbbe-53c6982fce29",
     "showTitle": true,
     "title": "UNION"
    }
   },
   "outputs": [
    {
     "output_type": "stream",
     "name": "stdout",
     "output_type": "stream",
     "text": [
      "+--------+------+------+-------+---------+\n|UniqueID|  Name|Salary| Region|NewSalary|\n+--------+------+------+-------+---------+\n|    A001|   Ade| 20000|Nigeria|     null|\n|    A002|   Ada| 35000|Nigeria|     null|\n|    A003|   Jon| 40000|     UK|     null|\n|    A004|  Jane| 20000|    USA|     null|\n|    A005| James| 35000|     UK|     null|\n|    A006|  Agbo| 40000|    USA|     null|\n|    A007|   Awa| 70000|    UAE|     null|\n|    A008|Tamuno| 10000|Belgium|     null|\n|    A009|  Agbo| 35000|Nigeria|     null|\n|    A010| Taiwo| 40000|Belgium|     null|\n|    A011|  Adam| 10000|    UAE|     null|\n|     Ade|   Obi|    34|      M|    20000|\n|     Ada|  null|    35|      M|    35000|\n|     Jon|  Cray|    20|      F|    40000|\n|     Ife|  null|    21|   null|    20000|\n|  Tamuno| Obudo|    26|      F|    35000|\n|    Agbo|  null|    22|      F|    40000|\n|   Ajoke|   Yam|    21|      F|    70000|\n|    Temi|   Pep|  null|   null|    45000|\n|    null|  null|    30|      M|    40000|\n+--------+------+------+-------+---------+\nonly showing top 20 rows\n\n"
     ]
    }
   ],
   "source": [
    "em.union(df3).show()\n",
    "#Union and Union all work same without removing duplicate (opposite in sql)"
   ]
  },
  {
   "cell_type": "code",
   "execution_count": 0,
   "metadata": {
    "application/vnd.databricks.v1+cell": {
     "cellMetadata": {},
     "inputWidgets": {},
     "nuid": "2586eb1c-75a1-4439-9997-e1e121fd0156",
     "showTitle": false,
     "title": ""
    }
   },
   "outputs": [],
   "source": []
  }
 ],
 "metadata": {
  "application/vnd.databricks.v1+notebook": {
   "dashboards": [],
   "environmentMetadata": null,
   "language": "python",
   "notebookMetadata": {
    "pythonIndentUnit": 4
   },
   "notebookName": "Pyspark_Class",
   "widgets": {}
  }
 },
 "nbformat": 4,
 "nbformat_minor": 0
}
